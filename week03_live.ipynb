{
 "cells": [
  {
   "cell_type": "markdown",
   "source": [
    "# Week 3 - live session"
   ],
   "metadata": {}
  },
  {
   "cell_type": "code",
   "execution_count": 1,
   "source": [
    "# Review: variable names\r\n",
    "\r\n",
    "\r\n",
    "#Certain things are allowed in variable names and certain other things are not!"
   ],
   "outputs": [],
   "metadata": {}
  },
  {
   "cell_type": "code",
   "execution_count": 2,
   "source": [
    "I_love_you = '<3'# only underline and letter is fine for strating character of variable name\r\n",
    "print(I_love_you)"
   ],
   "outputs": [
    {
     "output_type": "stream",
     "name": "stdout",
     "text": [
      "<3\n"
     ]
    }
   ],
   "metadata": {}
  },
  {
   "cell_type": "code",
   "execution_count": 3,
   "source": [
    "# I love you = '<3' "
   ],
   "outputs": [],
   "metadata": {}
  },
  {
   "cell_type": "code",
   "execution_count": 4,
   "source": [
    "# I-love-you = '<3'"
   ],
   "outputs": [],
   "metadata": {}
  },
  {
   "cell_type": "code",
   "execution_count": 5,
   "source": [
    "# 1_love_you = '<3'"
   ],
   "outputs": [],
   "metadata": {}
  },
  {
   "cell_type": "code",
   "execution_count": 6,
   "source": [
    "# !_love_you = '<3'"
   ],
   "outputs": [],
   "metadata": {}
  },
  {
   "cell_type": "code",
   "execution_count": 7,
   "source": [
    "\"Iloveyou\" == '<3'"
   ],
   "outputs": [
    {
     "output_type": "execute_result",
     "data": {
      "text/plain": [
       "False"
      ]
     },
     "metadata": {},
     "execution_count": 7
    }
   ],
   "metadata": {}
  },
  {
   "cell_type": "code",
   "execution_count": 8,
   "source": [
    "#Iloveyou = '<3'"
   ],
   "outputs": [],
   "metadata": {}
  },
  {
   "cell_type": "code",
   "execution_count": 9,
   "source": [
    "# for = 7"
   ],
   "outputs": [],
   "metadata": {}
  },
  {
   "cell_type": "code",
   "execution_count": 10,
   "source": [
    "For = 7 # ok, but not good"
   ],
   "outputs": [],
   "metadata": {}
  },
  {
   "cell_type": "code",
   "execution_count": 11,
   "source": [
    "_for = 7"
   ],
   "outputs": [],
   "metadata": {}
  },
  {
   "cell_type": "markdown",
   "source": [
    "## Lists\n",
    "\n",
    "What's the outcome of the cell below? and why?"
   ],
   "metadata": {}
  },
  {
   "cell_type": "code",
   "execution_count": 12,
   "source": [
    "a = [1, 2, 3]\r\n",
    "b = a \r\n",
    "b[1] = 6\r\n",
    "print(a,b)"
   ],
   "outputs": [
    {
     "output_type": "stream",
     "name": "stdout",
     "text": [
      "[1, 6, 3] [1, 6, 3]\n"
     ]
    }
   ],
   "metadata": {}
  },
  {
   "cell_type": "markdown",
   "source": [
    "## Methods for list (like .append())\n",
    "\n",
    "Find the top 3 scores among a list of grades\n",
    "\n",
    "Two syntaxes for sorting"
   ],
   "metadata": {}
  },
  {
   "cell_type": "code",
   "execution_count": 33,
   "source": [
    "list_grades = [23,67,92,54,77,66,72,70]\r\n",
    "\r\n",
    "sorted_grades = sorted(list_grades) # increasing order\r\n",
    "\r\n",
    "list_grades.sort(reverse = True) # decreasing order\r\n",
    "\r\n",
    "print(list_grades[0:3])\r\n",
    "print(sorted_grades[:3])"
   ],
   "outputs": [
    {
     "output_type": "stream",
     "name": "stdout",
     "text": [
      "[92, 77, 72]\n",
      "[23, 54, 66]\n"
     ]
    }
   ],
   "metadata": {}
  },
  {
   "cell_type": "markdown",
   "source": [
    "## Functions\n",
    "\n",
    "What does the cell below do when we run it?"
   ],
   "metadata": {}
  },
  {
   "cell_type": "code",
   "execution_count": 54,
   "source": [
    "def fun(x):\r\n",
    "    x += 'world'\r\n",
    "    print(x)\r\n",
    "    \r\n",
    "#fun('Hello')\r\n",
    "\r\n",
    "# another example\r\n",
    "# def fun():\r\n",
    "#     my_string = \"Helloworld\"\r\n",
    "#     return my_string\r\n",
    "#     #print(my_string)\r\n",
    "    \r\n",
    "#fun()  \r\n",
    "# def fun(min, max):\r\n",
    "#     uniform_function = 1 / (max-min)\r\n",
    "#     return uniform_function\r\n",
    "\r\n",
    "# fun(4, 6)\r\n",
    "\r\n",
    "\r\n",
    "# def fun():  \r\n",
    "#     my_string = \"Helloworld\"\r\n",
    "#     print(my_string)  \r\n",
    "#     return \r\n",
    "# fun()"
   ],
   "outputs": [
    {
     "output_type": "stream",
     "name": "stdout",
     "text": [
      "Helloworld\n"
     ]
    }
   ],
   "metadata": {}
  },
  {
   "cell_type": "markdown",
   "source": [
    "## Indexing and slicing\n",
    "\n",
    "Both for lists and string.\n",
    "\n",
    "Example: right a function that checks if a given word is palindrome or not. If the input string is a palindrome there the function returns 'True' otherwise returns 'False' "
   ],
   "metadata": {}
  },
  {
   "cell_type": "code",
   "execution_count": 15,
   "source": [
    "def is_palindrome(mystring):\r\n",
    "    mystring = mystring.lower()\r\n",
    "    return mystring == mystring[::-1]\r\n",
    "\r\n",
    "is_palindrome('Radar')"
   ],
   "outputs": [
    {
     "output_type": "execute_result",
     "data": {
      "text/plain": [
       "True"
      ]
     },
     "metadata": {},
     "execution_count": 15
    }
   ],
   "metadata": {}
  },
  {
   "cell_type": "markdown",
   "source": [
    "## Lists of lists\n"
   ],
   "metadata": {}
  },
  {
   "cell_type": "markdown",
   "source": [
    "Write a function that takes a list of strings, counts the number of letters in each string and returns a new list that consists of lists with two elements: the original string and the number of letters (in the same order)."
   ],
   "metadata": {}
  },
  {
   "cell_type": "code",
   "execution_count": 16,
   "source": [
    "my_slist = ['Python', 'Charlotte', 'UoE', 'MSc']    "
   ],
   "outputs": [],
   "metadata": {}
  },
  {
   "cell_type": "markdown",
   "source": [
    "## Calculation of $\\pi$ using Leibniz formula\n",
    "\n",
    "\n",
    "Leibniz formula (check [here](https://en.wikipedia.org/wiki/Leibniz_formula_for_%CF%80))\n",
    "\n",
    "<br>\n",
    "\\begin{equation*}\n",
    "\\pi = 4 \\left( 1 - \\frac{1}{3} + \\frac{1}{5} - \\frac{1}{7} +.. \\right)\n",
    "\\end{equation*}\n",
    "\n",
    "Write a function that can calculate the accuracy of this formula up to a give term in the series. "
   ],
   "metadata": {}
  },
  {
   "cell_type": "code",
   "execution_count": 17,
   "source": [
    "import math\r\n",
    "\r\n",
    "\r\n",
    "\r\n",
    "def Leib_Pi(n):\r\n",
    "    estiamte_pi = 0\r\n",
    "    for i in range(n):\r\n",
    "        estiamte_pi += 4*(-1)**i*(1/(2*i+1))\r\n",
    "    \r\n",
    "    return estiamte_pi\r\n",
    "    \r\n",
    "\r\n",
    "for i in range(1,10000,100):\r\n",
    "    print(abs(math.pi-Leib_Pi(i)))"
   ],
   "outputs": [
    {
     "output_type": "stream",
     "name": "stdout",
     "text": [
      "0.8584073464102069\n",
      "0.009900747481198291\n",
      "0.004975093593162505\n",
      "0.0033222499690594987\n",
      "0.0024937617089677566\n",
      "0.0019960059959958087\n",
      "0.001663892359180963\n",
      "0.0014265327977933673\n",
      "0.001248438964235099\n",
      "0.0011098775716362752\n",
      "0.0009990007497511222\n",
      "0.0009082650261267311\n",
      "0.0008326393227977569\n",
      "0.000768639394541637\n",
      "0.0007137757834616565\n",
      "0.0006662224443938491\n",
      "0.0006246095580673128\n",
      "0.000587889425981647\n",
      "0.0005552470421554823\n",
      "0.0005260388904870794\n",
      "0.0004997500937324872\n",
      "0.0004759637997930888\n",
      "0.0004543389134012976\n",
      "0.0004345936344112289\n",
      "0.00041649310980140797\n",
      "0.00039984004799409334\n",
      "0.0003844674982880214\n",
      "0.000370233234260553\n",
      "0.0003570153402856491\n",
      "0.00034470871089320454\n",
      "0.00033322224999654537\n",
      "0.00032247661206108447\n",
      "0.00031240236663698795\n",
      "0.0003029384965351767\n",
      "0.00029403116095227944\n",
      "0.0002856326705562573\n",
      "0.00027770063336252093\n",
      "0.0002701972390615204\n",
      "0.0002630886563310675\n",
      "0.0002563445228380701\n",
      "0.0002499375117226421\n",
      "0.00024384296150881113\n",
      "0.00023803855887871705\n",
      "0.00023250406568164905\n",
      "0.00022722108318573575\n",
      "0.00022217284773873303\n",
      "0.00021734405307460847\n",
      "0.00021272069531796944\n",
      "0.00020828993733701395\n",
      "0.00020403998971252335\n",
      "0.00019996000599764585\n",
      "0.00019603999027451025\n",
      "0.00019227071539296148\n",
      "0.00018864365046367126\n",
      "0.00018515089639548066\n",
      "0.00018178512847244477\n",
      "0.00017853954508506575\n",
      "0.0001754078218372257\n",
      "0.00017238407042841075\n",
      "0.0001694628016930544\n",
      "0.00016663889235513096\n",
      "0.00016390755503126186\n",
      "0.0001612643111537082\n",
      "0.00015870496646064325\n",
      "0.000156225588792136\n",
      "0.00015382248793294195\n",
      "0.00015149219727605967\n",
      "0.00014923145715428632\n",
      "0.00014703719961062234\n",
      "0.00014490653451648683\n",
      "0.0001428367368729866\n",
      "0.00014082523517888745\n",
      "0.0001388696007702528\n",
      "0.00013696753804559592\n",
      "0.00013511687547484996\n",
      "0.00013331555732598588\n",
      "0.00013156163605021476\n",
      "0.0001298532652542761\n",
      "0.0001281886932216203\n",
      "0.00012656625691853662\n",
      "0.00012498437645147575\n",
      "0.00012344154994137213\n",
      "0.00012193634875634629\n",
      "0.0001204674131107808\n",
      "0.0001190334479592714\n",
      "0.00011763321919611158\n",
      "0.00011626555010746387\n",
      "0.00011492931807399742\n",
      "0.0001136234514995671\n",
      "0.00011234692694284121\n",
      "0.00011109876644521677\n",
      "0.0001098780350359263\n",
      "0.00010868383838058548\n",
      "0.00010751532061181734\n",
      "0.0001063716622784483\n",
      "0.00010525207842837503\n",
      "0.00010415581681266772\n",
      "0.00010308215619581063\n",
      "0.00010203040478673486\n",
      "0.00010099989873380011\n"
     ]
    }
   ],
   "metadata": {}
  }
 ],
 "metadata": {
  "kernelspec": {
   "display_name": "Python 3 (ipykernel)",
   "language": "python",
   "name": "python3"
  },
  "language_info": {
   "codemirror_mode": {
    "name": "ipython",
    "version": 3
   },
   "file_extension": ".py",
   "mimetype": "text/x-python",
   "name": "python",
   "nbconvert_exporter": "python",
   "pygments_lexer": "ipython3",
   "version": "3.7.10"
  }
 },
 "nbformat": 4,
 "nbformat_minor": 4
}